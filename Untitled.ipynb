{
 "cells": [
  {
   "cell_type": "code",
   "execution_count": 1,
   "id": "73e2c36b-6386-4216-a308-b68bfac87a54",
   "metadata": {},
   "outputs": [
    {
     "name": "stdout",
     "output_type": "stream",
     "text": [
      "Final CSV saved to: final_cv_dataset.csv\n"
     ]
    }
   ],
   "source": [
    "import pandas as pd\n",
    "import os\n",
    "\n",
    "# Load the dataset (you can replace this with your own dataset path)\n",
    "df = pd.read_csv('synthetic_cv_dataset.csv')\n",
    "\n",
    "# Create directories for storing the text files if they don't already exist\n",
    "os.makedirs('CVs', exist_ok=True)\n",
    "os.makedirs('Cover_Letters', exist_ok=True)\n",
    "\n",
    "# List to hold the new CSV entries\n",
    "final_data = []\n",
    "\n",
    "# Loop through the dataset and save CVs and Cover Letters in text files\n",
    "for idx, row in df.iterrows():\n",
    "    job_role = row['Job Role']\n",
    "    \n",
    "    # Define file paths\n",
    "    cv_file_path = f'CVs/CV_{idx+1}.txt'\n",
    "    cover_letter_file_path = f'Cover_Letters/Cover_Letter_{idx+1}.txt'\n",
    "    \n",
    "    # Save CV summary as a text file\n",
    "    with open(cv_file_path, 'w') as cv_file:\n",
    "        cv_file.write(f\"CV Summary:\\n{row['CV Summary']}\\n\\n\")\n",
    "        cv_file.write(f\"Work Experience:\\n{row['Work Experience']}\\n\\n\")\n",
    "        cv_file.write(f\"Skills: {row['Skills']}\\n\")\n",
    "        cv_file.write(f\"Soft Skills: {row['Soft Skills']}\\n\")\n",
    "        cv_file.write(f\"Education: {row['Education']}\\n\")\n",
    "        cv_file.write(f\"Experience (Years): {row['Experience (Years)']}\\n\")\n",
    "    \n",
    "    # Save Cover Letter as a text file\n",
    "    with open(cover_letter_file_path, 'w') as cl_file:\n",
    "        cl_file.write(row['Cover Letter'])\n",
    "    \n",
    "    # Add the new entry to the final CSV data\n",
    "    final_data.append({\n",
    "        \"Job Role\": job_role,\n",
    "        \"Job Description\": f\"This is a generic job description for {job_role}.\",  # You can modify this\n",
    "        \"CV File Path\": cv_file_path,\n",
    "        \"Cover Letter File Path\": cover_letter_file_path\n",
    "    })\n",
    "\n",
    "# Create the final DataFrame\n",
    "final_df = pd.DataFrame(final_data)\n",
    "\n",
    "# Save the final CSV file\n",
    "final_csv_path = 'final_cv_dataset.csv'\n",
    "final_df.to_csv(final_csv_path, index=False)\n",
    "\n",
    "print(f\"Final CSV saved to: {final_csv_path}\")\n"
   ]
  },
  {
   "cell_type": "code",
   "execution_count": null,
   "id": "9ca6bdcd-3e2d-4b01-9f5e-fa4ed918bd9d",
   "metadata": {},
   "outputs": [],
   "source": []
  }
 ],
 "metadata": {
  "kernelspec": {
   "display_name": "Python 3 (ipykernel)",
   "language": "python",
   "name": "python3"
  },
  "language_info": {
   "codemirror_mode": {
    "name": "ipython",
    "version": 3
   },
   "file_extension": ".py",
   "mimetype": "text/x-python",
   "name": "python",
   "nbconvert_exporter": "python",
   "pygments_lexer": "ipython3",
   "version": "3.12.4"
  }
 },
 "nbformat": 4,
 "nbformat_minor": 5
}
